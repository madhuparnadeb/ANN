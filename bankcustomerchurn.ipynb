{
 "cells": [
  {
   "cell_type": "markdown",
   "id": "a5861610",
   "metadata": {},
   "source": [
    "# Bank Customers Churn\n",
    "https://www.kaggle.com/datasets/santoshd3/bank-customers?resource=download"
   ]
  },
  {
   "cell_type": "markdown",
   "id": "e9b4789f",
   "metadata": {},
   "source": [
    "### Data Preprocessing"
   ]
  },
  {
   "cell_type": "code",
   "execution_count": 1,
   "id": "2a9a7077",
   "metadata": {},
   "outputs": [],
   "source": [
    "# importing libraries\n",
    "import numpy as np\n",
    "import pandas as pd\n",
    "import matplotlib.pyplot as plt"
   ]
  },
  {
   "cell_type": "code",
   "execution_count": 2,
   "id": "c2575768",
   "metadata": {},
   "outputs": [],
   "source": [
    "# importing dataset\n",
    "churn = pd.read_csv(\"Churn Modeling.csv\")"
   ]
  },
  {
   "cell_type": "code",
   "execution_count": 3,
   "id": "fa9eb41c",
   "metadata": {},
   "outputs": [
    {
     "data": {
      "text/html": [
       "<div>\n",
       "<style scoped>\n",
       "    .dataframe tbody tr th:only-of-type {\n",
       "        vertical-align: middle;\n",
       "    }\n",
       "\n",
       "    .dataframe tbody tr th {\n",
       "        vertical-align: top;\n",
       "    }\n",
       "\n",
       "    .dataframe thead th {\n",
       "        text-align: right;\n",
       "    }\n",
       "</style>\n",
       "<table border=\"1\" class=\"dataframe\">\n",
       "  <thead>\n",
       "    <tr style=\"text-align: right;\">\n",
       "      <th></th>\n",
       "      <th>RowNumber</th>\n",
       "      <th>CustomerId</th>\n",
       "      <th>Surname</th>\n",
       "      <th>CreditScore</th>\n",
       "      <th>Geography</th>\n",
       "      <th>Gender</th>\n",
       "      <th>Age</th>\n",
       "      <th>Tenure</th>\n",
       "      <th>Balance</th>\n",
       "      <th>NumOfProducts</th>\n",
       "      <th>HasCrCard</th>\n",
       "      <th>IsActiveMember</th>\n",
       "      <th>EstimatedSalary</th>\n",
       "      <th>Exited</th>\n",
       "    </tr>\n",
       "  </thead>\n",
       "  <tbody>\n",
       "    <tr>\n",
       "      <th>0</th>\n",
       "      <td>1</td>\n",
       "      <td>15634602</td>\n",
       "      <td>Hargrave</td>\n",
       "      <td>619</td>\n",
       "      <td>France</td>\n",
       "      <td>Female</td>\n",
       "      <td>42</td>\n",
       "      <td>2</td>\n",
       "      <td>0.00</td>\n",
       "      <td>1</td>\n",
       "      <td>1</td>\n",
       "      <td>1</td>\n",
       "      <td>101348.88</td>\n",
       "      <td>1</td>\n",
       "    </tr>\n",
       "    <tr>\n",
       "      <th>1</th>\n",
       "      <td>2</td>\n",
       "      <td>15647311</td>\n",
       "      <td>Hill</td>\n",
       "      <td>608</td>\n",
       "      <td>Spain</td>\n",
       "      <td>Female</td>\n",
       "      <td>41</td>\n",
       "      <td>1</td>\n",
       "      <td>83807.86</td>\n",
       "      <td>1</td>\n",
       "      <td>0</td>\n",
       "      <td>1</td>\n",
       "      <td>112542.58</td>\n",
       "      <td>0</td>\n",
       "    </tr>\n",
       "    <tr>\n",
       "      <th>2</th>\n",
       "      <td>3</td>\n",
       "      <td>15619304</td>\n",
       "      <td>Onio</td>\n",
       "      <td>502</td>\n",
       "      <td>France</td>\n",
       "      <td>Female</td>\n",
       "      <td>42</td>\n",
       "      <td>8</td>\n",
       "      <td>159660.80</td>\n",
       "      <td>3</td>\n",
       "      <td>1</td>\n",
       "      <td>0</td>\n",
       "      <td>113931.57</td>\n",
       "      <td>1</td>\n",
       "    </tr>\n",
       "    <tr>\n",
       "      <th>3</th>\n",
       "      <td>4</td>\n",
       "      <td>15701354</td>\n",
       "      <td>Boni</td>\n",
       "      <td>699</td>\n",
       "      <td>France</td>\n",
       "      <td>Female</td>\n",
       "      <td>39</td>\n",
       "      <td>1</td>\n",
       "      <td>0.00</td>\n",
       "      <td>2</td>\n",
       "      <td>0</td>\n",
       "      <td>0</td>\n",
       "      <td>93826.63</td>\n",
       "      <td>0</td>\n",
       "    </tr>\n",
       "    <tr>\n",
       "      <th>4</th>\n",
       "      <td>5</td>\n",
       "      <td>15737888</td>\n",
       "      <td>Mitchell</td>\n",
       "      <td>850</td>\n",
       "      <td>Spain</td>\n",
       "      <td>Female</td>\n",
       "      <td>43</td>\n",
       "      <td>2</td>\n",
       "      <td>125510.82</td>\n",
       "      <td>1</td>\n",
       "      <td>1</td>\n",
       "      <td>1</td>\n",
       "      <td>79084.10</td>\n",
       "      <td>0</td>\n",
       "    </tr>\n",
       "  </tbody>\n",
       "</table>\n",
       "</div>"
      ],
      "text/plain": [
       "   RowNumber  CustomerId   Surname  CreditScore Geography  Gender  Age  \\\n",
       "0          1    15634602  Hargrave          619    France  Female   42   \n",
       "1          2    15647311      Hill          608     Spain  Female   41   \n",
       "2          3    15619304      Onio          502    France  Female   42   \n",
       "3          4    15701354      Boni          699    France  Female   39   \n",
       "4          5    15737888  Mitchell          850     Spain  Female   43   \n",
       "\n",
       "   Tenure    Balance  NumOfProducts  HasCrCard  IsActiveMember  \\\n",
       "0       2       0.00              1          1               1   \n",
       "1       1   83807.86              1          0               1   \n",
       "2       8  159660.80              3          1               0   \n",
       "3       1       0.00              2          0               0   \n",
       "4       2  125510.82              1          1               1   \n",
       "\n",
       "   EstimatedSalary  Exited  \n",
       "0        101348.88       1  \n",
       "1        112542.58       0  \n",
       "2        113931.57       1  \n",
       "3         93826.63       0  \n",
       "4         79084.10       0  "
      ]
     },
     "execution_count": 3,
     "metadata": {},
     "output_type": "execute_result"
    }
   ],
   "source": [
    "churn.head()"
   ]
  },
  {
   "cell_type": "code",
   "execution_count": 4,
   "id": "d3ff9dc2",
   "metadata": {},
   "outputs": [],
   "source": [
    "# reconstructing dataset by removing the irrelevant columns such as RowNumber, CustomerId, Surname\n",
    "X = churn.iloc[:, 3:13]\n",
    "y = churn.iloc[:, 13]"
   ]
  },
  {
   "cell_type": "code",
   "execution_count": 5,
   "id": "c5a4ab3a",
   "metadata": {},
   "outputs": [],
   "source": [
    "# converting categorical features into dummy variables\n",
    "states = pd.get_dummies(X['Geography'],drop_first = True)\n",
    "gender = pd.get_dummies(X['Gender'],drop_first = True)"
   ]
  },
  {
   "cell_type": "code",
   "execution_count": 6,
   "id": "ae4d6c55",
   "metadata": {},
   "outputs": [],
   "source": [
    "# dropping the columns which were converted to dummy variables\n",
    "X = X.drop([\"Geography\",\"Gender\"],axis = 1)"
   ]
  },
  {
   "cell_type": "code",
   "execution_count": 7,
   "id": "96031f14",
   "metadata": {},
   "outputs": [],
   "source": [
    "# concatenating remaining columns of the dataset with the dummy variables columns\n",
    "X = pd.concat([X,states,gender],axis = 1)"
   ]
  },
  {
   "cell_type": "code",
   "execution_count": 8,
   "id": "c6db19ea",
   "metadata": {},
   "outputs": [
    {
     "data": {
      "text/html": [
       "<div>\n",
       "<style scoped>\n",
       "    .dataframe tbody tr th:only-of-type {\n",
       "        vertical-align: middle;\n",
       "    }\n",
       "\n",
       "    .dataframe tbody tr th {\n",
       "        vertical-align: top;\n",
       "    }\n",
       "\n",
       "    .dataframe thead th {\n",
       "        text-align: right;\n",
       "    }\n",
       "</style>\n",
       "<table border=\"1\" class=\"dataframe\">\n",
       "  <thead>\n",
       "    <tr style=\"text-align: right;\">\n",
       "      <th></th>\n",
       "      <th>CreditScore</th>\n",
       "      <th>Age</th>\n",
       "      <th>Tenure</th>\n",
       "      <th>Balance</th>\n",
       "      <th>NumOfProducts</th>\n",
       "      <th>HasCrCard</th>\n",
       "      <th>IsActiveMember</th>\n",
       "      <th>EstimatedSalary</th>\n",
       "      <th>Germany</th>\n",
       "      <th>Spain</th>\n",
       "      <th>Male</th>\n",
       "    </tr>\n",
       "  </thead>\n",
       "  <tbody>\n",
       "    <tr>\n",
       "      <th>0</th>\n",
       "      <td>619</td>\n",
       "      <td>42</td>\n",
       "      <td>2</td>\n",
       "      <td>0.00</td>\n",
       "      <td>1</td>\n",
       "      <td>1</td>\n",
       "      <td>1</td>\n",
       "      <td>101348.88</td>\n",
       "      <td>0</td>\n",
       "      <td>0</td>\n",
       "      <td>0</td>\n",
       "    </tr>\n",
       "    <tr>\n",
       "      <th>1</th>\n",
       "      <td>608</td>\n",
       "      <td>41</td>\n",
       "      <td>1</td>\n",
       "      <td>83807.86</td>\n",
       "      <td>1</td>\n",
       "      <td>0</td>\n",
       "      <td>1</td>\n",
       "      <td>112542.58</td>\n",
       "      <td>0</td>\n",
       "      <td>1</td>\n",
       "      <td>0</td>\n",
       "    </tr>\n",
       "    <tr>\n",
       "      <th>2</th>\n",
       "      <td>502</td>\n",
       "      <td>42</td>\n",
       "      <td>8</td>\n",
       "      <td>159660.80</td>\n",
       "      <td>3</td>\n",
       "      <td>1</td>\n",
       "      <td>0</td>\n",
       "      <td>113931.57</td>\n",
       "      <td>0</td>\n",
       "      <td>0</td>\n",
       "      <td>0</td>\n",
       "    </tr>\n",
       "    <tr>\n",
       "      <th>3</th>\n",
       "      <td>699</td>\n",
       "      <td>39</td>\n",
       "      <td>1</td>\n",
       "      <td>0.00</td>\n",
       "      <td>2</td>\n",
       "      <td>0</td>\n",
       "      <td>0</td>\n",
       "      <td>93826.63</td>\n",
       "      <td>0</td>\n",
       "      <td>0</td>\n",
       "      <td>0</td>\n",
       "    </tr>\n",
       "    <tr>\n",
       "      <th>4</th>\n",
       "      <td>850</td>\n",
       "      <td>43</td>\n",
       "      <td>2</td>\n",
       "      <td>125510.82</td>\n",
       "      <td>1</td>\n",
       "      <td>1</td>\n",
       "      <td>1</td>\n",
       "      <td>79084.10</td>\n",
       "      <td>0</td>\n",
       "      <td>1</td>\n",
       "      <td>0</td>\n",
       "    </tr>\n",
       "  </tbody>\n",
       "</table>\n",
       "</div>"
      ],
      "text/plain": [
       "   CreditScore  Age  Tenure    Balance  NumOfProducts  HasCrCard  \\\n",
       "0          619   42       2       0.00              1          1   \n",
       "1          608   41       1   83807.86              1          0   \n",
       "2          502   42       8  159660.80              3          1   \n",
       "3          699   39       1       0.00              2          0   \n",
       "4          850   43       2  125510.82              1          1   \n",
       "\n",
       "   IsActiveMember  EstimatedSalary  Germany  Spain  Male  \n",
       "0               1        101348.88        0      0     0  \n",
       "1               1        112542.58        0      1     0  \n",
       "2               0        113931.57        0      0     0  \n",
       "3               0         93826.63        0      0     0  \n",
       "4               1         79084.10        0      1     0  "
      ]
     },
     "execution_count": 8,
     "metadata": {},
     "output_type": "execute_result"
    }
   ],
   "source": [
    "X.head()"
   ]
  },
  {
   "cell_type": "code",
   "execution_count": 9,
   "id": "339fc650",
   "metadata": {},
   "outputs": [],
   "source": [
    "# splitting dataset into train and test set\n",
    "from sklearn.model_selection import train_test_split\n",
    "x_train, x_test, y_train, y_test = train_test_split(X,y, test_size = 0.2, random_state = 0)"
   ]
  },
  {
   "cell_type": "code",
   "execution_count": 10,
   "id": "c36caf77",
   "metadata": {},
   "outputs": [],
   "source": [
    "# feature scaling\n",
    "from sklearn.preprocessing import StandardScaler\n",
    "sc = StandardScaler()\n",
    "X_train = sc.fit_transform(x_train)\n",
    "X_test = sc.transform(x_test)"
   ]
  },
  {
   "cell_type": "markdown",
   "id": "310c850f",
   "metadata": {},
   "source": [
    "### ANN"
   ]
  },
  {
   "cell_type": "code",
   "execution_count": 11,
   "id": "8b23b90d",
   "metadata": {},
   "outputs": [],
   "source": [
    "# importing keras libraries and packages\n",
    "import keras\n",
    "from keras.models import Sequential\n",
    "from keras.layers import Dense"
   ]
  },
  {
   "cell_type": "code",
   "execution_count": 12,
   "id": "9383c58d",
   "metadata": {},
   "outputs": [
    {
     "name": "stderr",
     "output_type": "stream",
     "text": [
      "2022-06-28 14:59:57.855119: I tensorflow/core/platform/cpu_feature_guard.cc:151] This TensorFlow binary is optimized with oneAPI Deep Neural Network Library (oneDNN) to use the following CPU instructions in performance-critical operations:  AVX2 FMA\n",
      "To enable them in other operations, rebuild TensorFlow with the appropriate compiler flags.\n"
     ]
    }
   ],
   "source": [
    "# initializing ANN\n",
    "classifier = Sequential()"
   ]
  },
  {
   "cell_type": "code",
   "execution_count": 13,
   "id": "3f93bb66",
   "metadata": {},
   "outputs": [],
   "source": [
    "# adding input layer and first hidden layer\n",
    "classifier.add(Dense(activation = \"relu\", input_dim = 11, units = 6, kernel_initializer = \"uniform\"))"
   ]
  },
  {
   "cell_type": "code",
   "execution_count": 14,
   "id": "a0a3c575",
   "metadata": {},
   "outputs": [],
   "source": [
    "# adding second hidden layer\n",
    "classifier.add(Dense(activation = \"relu\", units = 6, kernel_initializer = \"uniform\"))"
   ]
  },
  {
   "cell_type": "code",
   "execution_count": 15,
   "id": "93423dbe",
   "metadata": {},
   "outputs": [],
   "source": [
    "# adding output layer\n",
    "classifier.add(Dense(activation = \"sigmoid\", units = 1, kernel_initializer = \"uniform\"))"
   ]
  },
  {
   "cell_type": "code",
   "execution_count": 16,
   "id": "32978b32",
   "metadata": {},
   "outputs": [],
   "source": [
    "# compiling ANN\n",
    "classifier.compile(optimizer = \"adam\", loss = \"binary_crossentropy\", metrics = [\"accuracy\"])"
   ]
  },
  {
   "cell_type": "code",
   "execution_count": 19,
   "id": "bf473aad",
   "metadata": {},
   "outputs": [
    {
     "name": "stdout",
     "output_type": "stream",
     "text": [
      "Epoch 1/50\n",
      "800/800 [==============================] - 2s 2ms/step - loss: 0.4819 - accuracy: 0.7958\n",
      "Epoch 2/50\n",
      "800/800 [==============================] - 2s 2ms/step - loss: 0.4264 - accuracy: 0.7960\n",
      "Epoch 3/50\n",
      "800/800 [==============================] - 2s 2ms/step - loss: 0.4205 - accuracy: 0.8064\n",
      "Epoch 4/50\n",
      "800/800 [==============================] - 2s 2ms/step - loss: 0.4172 - accuracy: 0.8276\n",
      "Epoch 5/50\n",
      "800/800 [==============================] - 2s 2ms/step - loss: 0.4155 - accuracy: 0.8291\n",
      "Epoch 6/50\n",
      "800/800 [==============================] - 2s 2ms/step - loss: 0.4139 - accuracy: 0.8316\n",
      "Epoch 7/50\n",
      "800/800 [==============================] - 2s 2ms/step - loss: 0.4123 - accuracy: 0.8332\n",
      "Epoch 8/50\n",
      "800/800 [==============================] - 1s 2ms/step - loss: 0.4109 - accuracy: 0.8332\n",
      "Epoch 9/50\n",
      "800/800 [==============================] - 1s 2ms/step - loss: 0.4107 - accuracy: 0.8339\n",
      "Epoch 10/50\n",
      "800/800 [==============================] - 1s 2ms/step - loss: 0.4096 - accuracy: 0.8350\n",
      "Epoch 11/50\n",
      "800/800 [==============================] - 2s 2ms/step - loss: 0.4090 - accuracy: 0.8345\n",
      "Epoch 12/50\n",
      "800/800 [==============================] - 2s 2ms/step - loss: 0.4084 - accuracy: 0.8354\n",
      "Epoch 13/50\n",
      "800/800 [==============================] - 2s 2ms/step - loss: 0.4075 - accuracy: 0.8364\n",
      "Epoch 14/50\n",
      "800/800 [==============================] - 2s 2ms/step - loss: 0.4070 - accuracy: 0.8347: 0s -\n",
      "Epoch 15/50\n",
      "800/800 [==============================] - 2s 2ms/step - loss: 0.4070 - accuracy: 0.8339\n",
      "Epoch 16/50\n",
      "800/800 [==============================] - 3s 4ms/step - loss: 0.4063 - accuracy: 0.8363\n",
      "Epoch 17/50\n",
      "800/800 [==============================] - 1s 2ms/step - loss: 0.4062 - accuracy: 0.8331\n",
      "Epoch 18/50\n",
      "800/800 [==============================] - 1s 2ms/step - loss: 0.4056 - accuracy: 0.8346\n",
      "Epoch 19/50\n",
      "800/800 [==============================] - 2s 2ms/step - loss: 0.4054 - accuracy: 0.8349\n",
      "Epoch 20/50\n",
      "800/800 [==============================] - 2s 3ms/step - loss: 0.4051 - accuracy: 0.8353\n",
      "Epoch 21/50\n",
      "800/800 [==============================] - 3s 4ms/step - loss: 0.4050 - accuracy: 0.8353\n",
      "Epoch 22/50\n",
      "800/800 [==============================] - 2s 3ms/step - loss: 0.4045 - accuracy: 0.8339\n",
      "Epoch 23/50\n",
      "800/800 [==============================] - 2s 3ms/step - loss: 0.4041 - accuracy: 0.8351\n",
      "Epoch 24/50\n",
      "800/800 [==============================] - 2s 2ms/step - loss: 0.4044 - accuracy: 0.8349\n",
      "Epoch 25/50\n",
      "800/800 [==============================] - 1s 2ms/step - loss: 0.4038 - accuracy: 0.8340\n",
      "Epoch 26/50\n",
      "800/800 [==============================] - 2s 2ms/step - loss: 0.4036 - accuracy: 0.8344\n",
      "Epoch 27/50\n",
      "800/800 [==============================] - 2s 2ms/step - loss: 0.4037 - accuracy: 0.8351\n",
      "Epoch 28/50\n",
      "800/800 [==============================] - 1s 2ms/step - loss: 0.4032 - accuracy: 0.8340\n",
      "Epoch 29/50\n",
      "800/800 [==============================] - 2s 2ms/step - loss: 0.4032 - accuracy: 0.8355\n",
      "Epoch 30/50\n",
      "800/800 [==============================] - 2s 2ms/step - loss: 0.4029 - accuracy: 0.8344\n",
      "Epoch 31/50\n",
      "800/800 [==============================] - 2s 2ms/step - loss: 0.4029 - accuracy: 0.8351\n",
      "Epoch 32/50\n",
      "800/800 [==============================] - 1s 2ms/step - loss: 0.4021 - accuracy: 0.8357\n",
      "Epoch 33/50\n",
      "800/800 [==============================] - 1s 2ms/step - loss: 0.4022 - accuracy: 0.8339\n",
      "Epoch 34/50\n",
      "800/800 [==============================] - 2s 2ms/step - loss: 0.4022 - accuracy: 0.8347\n",
      "Epoch 35/50\n",
      "800/800 [==============================] - 1s 2ms/step - loss: 0.4020 - accuracy: 0.8345\n",
      "Epoch 36/50\n",
      "800/800 [==============================] - 1s 2ms/step - loss: 0.4025 - accuracy: 0.8342\n",
      "Epoch 37/50\n",
      "800/800 [==============================] - 2s 2ms/step - loss: 0.4017 - accuracy: 0.8347\n",
      "Epoch 38/50\n",
      "800/800 [==============================] - 1s 2ms/step - loss: 0.4022 - accuracy: 0.8344\n",
      "Epoch 39/50\n",
      "800/800 [==============================] - 1s 2ms/step - loss: 0.4017 - accuracy: 0.8344\n",
      "Epoch 40/50\n",
      "800/800 [==============================] - 1s 1ms/step - loss: 0.4016 - accuracy: 0.8351\n",
      "Epoch 41/50\n",
      "800/800 [==============================] - 1s 2ms/step - loss: 0.4017 - accuracy: 0.8360\n",
      "Epoch 42/50\n",
      "800/800 [==============================] - 1s 1ms/step - loss: 0.4015 - accuracy: 0.8339\n",
      "Epoch 43/50\n",
      "800/800 [==============================] - 1s 2ms/step - loss: 0.4012 - accuracy: 0.8355\n",
      "Epoch 44/50\n",
      "800/800 [==============================] - 1s 2ms/step - loss: 0.4012 - accuracy: 0.8331\n",
      "Epoch 45/50\n",
      "800/800 [==============================] - 2s 2ms/step - loss: 0.4011 - accuracy: 0.8347\n",
      "Epoch 46/50\n",
      "800/800 [==============================] - 2s 2ms/step - loss: 0.4011 - accuracy: 0.8342\n",
      "Epoch 47/50\n",
      "800/800 [==============================] - 1s 2ms/step - loss: 0.4010 - accuracy: 0.8366\n",
      "Epoch 48/50\n",
      "800/800 [==============================] - 1s 2ms/step - loss: 0.4010 - accuracy: 0.8349\n",
      "Epoch 49/50\n",
      "800/800 [==============================] - 1s 1ms/step - loss: 0.4006 - accuracy: 0.8335\n",
      "Epoch 50/50\n",
      "800/800 [==============================] - 1s 1ms/step - loss: 0.4014 - accuracy: 0.8340\n"
     ]
    },
    {
     "data": {
      "text/plain": [
       "<keras.callbacks.History at 0x7fe874706d60>"
      ]
     },
     "execution_count": 19,
     "metadata": {},
     "output_type": "execute_result"
    }
   ],
   "source": [
    "# fitting ANN to training set\n",
    "classifier.fit(X_train, y_train, batch_size = 10, epochs = 50)"
   ]
  },
  {
   "cell_type": "markdown",
   "id": "6c5425f1",
   "metadata": {},
   "source": [
    "### Making prediction and Evaluating model"
   ]
  },
  {
   "cell_type": "code",
   "execution_count": 20,
   "id": "b08401a7",
   "metadata": {},
   "outputs": [],
   "source": [
    "# predicting test set\n",
    "y_pred = classifier.predict(X_test)\n",
    "y_pred = (y_pred > 0.5)"
   ]
  },
  {
   "cell_type": "code",
   "execution_count": 21,
   "id": "d92c9f8d",
   "metadata": {},
   "outputs": [
    {
     "data": {
      "text/plain": [
       "array([[False],\n",
       "       [False],\n",
       "       [False],\n",
       "       ...,\n",
       "       [False],\n",
       "       [False],\n",
       "       [False]])"
      ]
     },
     "execution_count": 21,
     "metadata": {},
     "output_type": "execute_result"
    }
   ],
   "source": [
    "y_pred"
   ]
  },
  {
   "cell_type": "code",
   "execution_count": 22,
   "id": "9de910c6",
   "metadata": {},
   "outputs": [],
   "source": [
    "# confusion matrix\n",
    "from sklearn.metrics import confusion_matrix, accuracy_score\n",
    "cm = confusion_matrix(y_test, y_pred)\n",
    "accuracy = accuracy_score(y_test, y_pred)"
   ]
  },
  {
   "cell_type": "code",
   "execution_count": 23,
   "id": "9c75bc16",
   "metadata": {},
   "outputs": [
    {
     "data": {
      "text/plain": [
       "array([[1541,   54],\n",
       "       [ 264,  141]])"
      ]
     },
     "execution_count": 23,
     "metadata": {},
     "output_type": "execute_result"
    }
   ],
   "source": [
    "cm"
   ]
  },
  {
   "cell_type": "code",
   "execution_count": 24,
   "id": "005fa110",
   "metadata": {},
   "outputs": [
    {
     "data": {
      "text/plain": [
       "0.841"
      ]
     },
     "execution_count": 24,
     "metadata": {},
     "output_type": "execute_result"
    }
   ],
   "source": [
    "accuracy"
   ]
  },
  {
   "cell_type": "code",
   "execution_count": null,
   "id": "17e89b67",
   "metadata": {},
   "outputs": [],
   "source": []
  },
  {
   "cell_type": "code",
   "execution_count": null,
   "id": "b8d195b4",
   "metadata": {},
   "outputs": [],
   "source": []
  }
 ],
 "metadata": {
  "kernelspec": {
   "display_name": "Python 3 (ipykernel)",
   "language": "python",
   "name": "python3"
  },
  "language_info": {
   "codemirror_mode": {
    "name": "ipython",
    "version": 3
   },
   "file_extension": ".py",
   "mimetype": "text/x-python",
   "name": "python",
   "nbconvert_exporter": "python",
   "pygments_lexer": "ipython3",
   "version": "3.8.5"
  }
 },
 "nbformat": 4,
 "nbformat_minor": 5
}
